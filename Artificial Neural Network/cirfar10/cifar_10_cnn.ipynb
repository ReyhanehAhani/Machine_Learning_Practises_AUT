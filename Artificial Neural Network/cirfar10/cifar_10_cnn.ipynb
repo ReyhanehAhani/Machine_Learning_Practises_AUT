{
  "nbformat": 4,
  "nbformat_minor": 0,
  "metadata": {
    "colab": {
      "provenance": []
    },
    "kernelspec": {
      "name": "python3",
      "display_name": "Python 3"
    },
    "language_info": {
      "name": "python"
    },
    "accelerator": "GPU",
    "gpuClass": "standard"
  },
  "cells": [
    {
      "cell_type": "code",
      "execution_count": 7,
      "metadata": {
        "id": "hohyseX5ZQ-g"
      },
      "outputs": [],
      "source": [
        "import pandas as pd\n",
        "import numpy as np\n",
        "import matplotlib.pyplot as plt\n",
        "import tensorflow as tf\n",
        "\n",
        "from keras.models import Sequential, load_model\n",
        "from keras.layers import Dense, Dropout, Flatten, Conv2D, MaxPooling2D, BatchNormalization\n",
        "from keras.datasets import cifar10\n",
        "from keras.utils import to_categorical"
      ]
    },
    {
      "cell_type": "code",
      "source": [
        "(x_train, y_train), (x_test, y_test) = cifar10.load_data()"
      ],
      "metadata": {
        "colab": {
          "base_uri": "https://localhost:8080/"
        },
        "id": "O6wEBr9YZpK-",
        "outputId": "010ef8a0-e2fd-48c7-b8b2-5d7a75cebe6c"
      },
      "execution_count": 3,
      "outputs": [
        {
          "output_type": "stream",
          "name": "stdout",
          "text": [
            "Downloading data from https://www.cs.toronto.edu/~kriz/cifar-10-python.tar.gz\n",
            "170498071/170498071 [==============================] - 6s 0us/step\n"
          ]
        }
      ]
    },
    {
      "cell_type": "code",
      "source": [
        "x_train = x_train.astype('float32')\n",
        "x_test = x_test.astype('float32')\n",
        "\n",
        "x_train /= 255\n",
        "x_test /= 255\n",
        "\n",
        "y_train = to_categorical(y_train, 10)\n",
        "y_test = to_categorical(y_test, 10)"
      ],
      "metadata": {
        "id": "7r2ZMUDJaTIO"
      },
      "execution_count": 4,
      "outputs": []
    },
    {
      "cell_type": "code",
      "source": [
        "model = Sequential()\n",
        "\n",
        "model.add(Conv2D(8, kernel_size=(3, 3), input_shape=(32, 32, 3), activation='relu'))\n",
        "model.add(BatchNormalization())\n",
        "model.add(MaxPooling2D(pool_size=(2, 2)))\n",
        "\n",
        "model.add(Conv2D(16, kernel_size=(3, 3), activation='relu'))\n",
        "model.add(BatchNormalization())\n",
        "model.add(MaxPooling2D(pool_size=(2, 2)))\n",
        "\n",
        "model.add(Conv2D(32, kernel_size=(3, 3), activation='relu'))\n",
        "model.add(BatchNormalization())\n",
        "model.add(MaxPooling2D(pool_size=(2, 2)))\n",
        "\n",
        "model.add(Flatten())\n",
        "\n",
        "model.add(Dense(128, activation='relu'))\n",
        "model.add(BatchNormalization())\n",
        "model.add(Dropout(0.5))\n",
        "model.add(Dense(10, activation='softmax'))\n",
        "\n",
        "model.compile(optimizer='adam', loss='categorical_crossentropy', metrics='accuracy')"
      ],
      "metadata": {
        "id": "mfIUWqodZ4DX"
      },
      "execution_count": 8,
      "outputs": []
    },
    {
      "cell_type": "code",
      "source": [
        "history = model.fit(x_train, y_train, validation_split=0.2, epochs=30)"
      ],
      "metadata": {
        "colab": {
          "base_uri": "https://localhost:8080/"
        },
        "id": "tKHnTWEtZ-cb",
        "outputId": "0404eb83-5ac7-4d74-b5db-2418821e5444"
      },
      "execution_count": 9,
      "outputs": [
        {
          "output_type": "stream",
          "name": "stdout",
          "text": [
            "Epoch 1/30\n",
            "1250/1250 [==============================] - 8s 5ms/step - loss: 1.8353 - accuracy: 0.3680 - val_loss: 1.6111 - val_accuracy: 0.4312\n",
            "Epoch 2/30\n",
            "1250/1250 [==============================] - 7s 5ms/step - loss: 1.4343 - accuracy: 0.4888 - val_loss: 1.3131 - val_accuracy: 0.5237\n",
            "Epoch 3/30\n",
            "1250/1250 [==============================] - 6s 5ms/step - loss: 1.3160 - accuracy: 0.5308 - val_loss: 1.2033 - val_accuracy: 0.5651\n",
            "Epoch 4/30\n",
            "1250/1250 [==============================] - 7s 5ms/step - loss: 1.2377 - accuracy: 0.5623 - val_loss: 1.1765 - val_accuracy: 0.5771\n",
            "Epoch 5/30\n",
            "1250/1250 [==============================] - 7s 5ms/step - loss: 1.1757 - accuracy: 0.5843 - val_loss: 1.2911 - val_accuracy: 0.5339\n",
            "Epoch 6/30\n",
            "1250/1250 [==============================] - 6s 5ms/step - loss: 1.1348 - accuracy: 0.6031 - val_loss: 1.1858 - val_accuracy: 0.5872\n",
            "Epoch 7/30\n",
            "1250/1250 [==============================] - 6s 5ms/step - loss: 1.1028 - accuracy: 0.6132 - val_loss: 1.2090 - val_accuracy: 0.5694\n",
            "Epoch 8/30\n",
            "1250/1250 [==============================] - 6s 5ms/step - loss: 1.0770 - accuracy: 0.6226 - val_loss: 1.4509 - val_accuracy: 0.5047\n",
            "Epoch 9/30\n",
            "1250/1250 [==============================] - 7s 6ms/step - loss: 1.0489 - accuracy: 0.6343 - val_loss: 1.0004 - val_accuracy: 0.6492\n",
            "Epoch 10/30\n",
            "1250/1250 [==============================] - 6s 5ms/step - loss: 1.0385 - accuracy: 0.6392 - val_loss: 1.0391 - val_accuracy: 0.6343\n",
            "Epoch 11/30\n",
            "1250/1250 [==============================] - 6s 5ms/step - loss: 1.0167 - accuracy: 0.6454 - val_loss: 1.0147 - val_accuracy: 0.6455\n",
            "Epoch 12/30\n",
            "1250/1250 [==============================] - 6s 5ms/step - loss: 1.0098 - accuracy: 0.6466 - val_loss: 1.0677 - val_accuracy: 0.6251\n",
            "Epoch 13/30\n",
            "1250/1250 [==============================] - 6s 5ms/step - loss: 0.9969 - accuracy: 0.6527 - val_loss: 1.2259 - val_accuracy: 0.5814\n",
            "Epoch 14/30\n",
            "1250/1250 [==============================] - 7s 5ms/step - loss: 0.9841 - accuracy: 0.6575 - val_loss: 0.9837 - val_accuracy: 0.6555\n",
            "Epoch 15/30\n",
            "1250/1250 [==============================] - 6s 5ms/step - loss: 0.9711 - accuracy: 0.6626 - val_loss: 1.0591 - val_accuracy: 0.6354\n",
            "Epoch 16/30\n",
            "1250/1250 [==============================] - 6s 5ms/step - loss: 0.9653 - accuracy: 0.6625 - val_loss: 0.9800 - val_accuracy: 0.6591\n",
            "Epoch 17/30\n",
            "1250/1250 [==============================] - 6s 5ms/step - loss: 0.9520 - accuracy: 0.6676 - val_loss: 0.9841 - val_accuracy: 0.6555\n",
            "Epoch 18/30\n",
            "1250/1250 [==============================] - 7s 5ms/step - loss: 0.9426 - accuracy: 0.6737 - val_loss: 0.9452 - val_accuracy: 0.6664\n",
            "Epoch 19/30\n",
            "1250/1250 [==============================] - 7s 5ms/step - loss: 0.9437 - accuracy: 0.6709 - val_loss: 1.0202 - val_accuracy: 0.6411\n",
            "Epoch 20/30\n",
            "1250/1250 [==============================] - 6s 5ms/step - loss: 0.9344 - accuracy: 0.6757 - val_loss: 0.9634 - val_accuracy: 0.6614\n",
            "Epoch 21/30\n",
            "1250/1250 [==============================] - 7s 5ms/step - loss: 0.9269 - accuracy: 0.6784 - val_loss: 1.0394 - val_accuracy: 0.6394\n",
            "Epoch 22/30\n",
            "1250/1250 [==============================] - 7s 5ms/step - loss: 0.9207 - accuracy: 0.6807 - val_loss: 0.9341 - val_accuracy: 0.6740\n",
            "Epoch 23/30\n",
            "1250/1250 [==============================] - 6s 5ms/step - loss: 0.9101 - accuracy: 0.6835 - val_loss: 0.9526 - val_accuracy: 0.6690\n",
            "Epoch 24/30\n",
            "1250/1250 [==============================] - 7s 5ms/step - loss: 0.9085 - accuracy: 0.6868 - val_loss: 0.9601 - val_accuracy: 0.6650\n",
            "Epoch 25/30\n",
            "1250/1250 [==============================] - 6s 5ms/step - loss: 0.9084 - accuracy: 0.6831 - val_loss: 0.9688 - val_accuracy: 0.6632\n",
            "Epoch 26/30\n",
            "1250/1250 [==============================] - 7s 5ms/step - loss: 0.9015 - accuracy: 0.6873 - val_loss: 1.0136 - val_accuracy: 0.6458\n",
            "Epoch 27/30\n",
            "1250/1250 [==============================] - 7s 5ms/step - loss: 0.8958 - accuracy: 0.6886 - val_loss: 0.9233 - val_accuracy: 0.6815\n",
            "Epoch 28/30\n",
            "1250/1250 [==============================] - 6s 5ms/step - loss: 0.8887 - accuracy: 0.6909 - val_loss: 0.9519 - val_accuracy: 0.6707\n",
            "Epoch 29/30\n",
            "1250/1250 [==============================] - 7s 5ms/step - loss: 0.8900 - accuracy: 0.6911 - val_loss: 0.9269 - val_accuracy: 0.6787\n",
            "Epoch 30/30\n",
            "1250/1250 [==============================] - 6s 5ms/step - loss: 0.8789 - accuracy: 0.6943 - val_loss: 0.9222 - val_accuracy: 0.6826\n"
          ]
        }
      ]
    },
    {
      "cell_type": "code",
      "source": [
        "plt.plot(history['accuracy'])\n",
        "plt.plot(history['val_accuracy'])\n",
        "plt.legend(['accuracy', 'val_accuracy'])\n",
        "plt.grid()\n",
        "plt.title('CNN, 30 Epochs, 256 Batch size, ReLU, categorical_crossentropy, Adam')\n",
        "plt.show()"
      ],
      "metadata": {
        "colab": {
          "base_uri": "https://localhost:8080/",
          "height": 281
        },
        "id": "JM2aCQ9_cMvB",
        "outputId": "198aa2ba-632d-4ce6-8aca-bb8c0a7eb078"
      },
      "execution_count": 15,
      "outputs": [
        {
          "output_type": "display_data",
          "data": {
            "text/plain": [
              "<Figure size 432x288 with 1 Axes>"
            ],
            "image/png": "[encoded data removed]"
          },
          "metadata": {
            "needs_background": "light"
          }
        }
      ]
    }
  ]
}