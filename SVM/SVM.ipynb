{
  "cells": [
    {
      "cell_type": "markdown",
      "metadata": {
        "id": "jhzugbDlno_m"
      },
      "source": [
        "# Libraries"
      ]
    },
    {
      "cell_type": "code",
      "execution_count": 64,
      "metadata": {
        "id": "QmpMKU9ylA9h"
      },
      "outputs": [],
      "source": [
        "from sklearn.preprocessing import OrdinalEncoder, MinMaxScaler\n",
        "from sklearn.model_selection import train_test_split, KFold\n",
        "from sklearn.metrics import accuracy_score\n",
        "from sklearn.svm import SVC\n",
        "\n",
        "import pandas as pd\n",
        "import matplotlib.pyplot as plt\n",
        "import numpy as np"
      ]
    },
    {
      "cell_type": "markdown",
      "metadata": {
        "id": "hNLJSVpHnezD"
      },
      "source": [
        "# Data processing"
      ]
    },
    {
      "cell_type": "code",
      "execution_count": 65,
      "metadata": {
        "colab": {
          "base_uri": "https://localhost:8080/",
          "height": 317
        },
        "id": "cWTC0LtcmIzk",
        "outputId": "24e791f3-111b-4a62-f3dc-09dba2a1d216"
      },
      "outputs": [
        {
          "output_type": "execute_result",
          "data": {
            "text/plain": [
              "   MFCCs_ 1  MFCCs_ 2  MFCCs_ 3  MFCCs_ 4  MFCCs_ 5  MFCCs_ 6  MFCCs_ 7  \\\n",
              "0       1.0  0.152936 -0.105586  0.200722  0.317201  0.260764  0.100945   \n",
              "1       1.0  0.171534 -0.098975  0.268425  0.338672  0.268353  0.060835   \n",
              "2       1.0  0.152317 -0.082973  0.287128  0.276014  0.189867  0.008714   \n",
              "3       1.0  0.224392  0.118985  0.329432  0.372088  0.361005  0.015501   \n",
              "4       1.0  0.087817 -0.068345  0.306967  0.330923  0.249144  0.006884   \n",
              "\n",
              "   MFCCs_ 8  MFCCs_ 9  MFCCs_10  ...  MFCCs_17  MFCCs_18  MFCCs_19  MFCCs_20  \\\n",
              "0 -0.150063 -0.171128  0.124676  ... -0.108351 -0.077623 -0.009568  0.057684   \n",
              "1 -0.222475 -0.207693  0.170883  ... -0.090974 -0.056510 -0.035303  0.020140   \n",
              "2 -0.242234 -0.219153  0.232538  ... -0.050691 -0.023590 -0.066722 -0.025083   \n",
              "3 -0.194347 -0.098181  0.270375  ... -0.136009 -0.177037 -0.130498 -0.054766   \n",
              "4 -0.265423 -0.172700  0.266434  ... -0.048885 -0.053074 -0.088550 -0.031346   \n",
              "\n",
              "   MFCCs_21  MFCCs_22           Family      Genus         Species  RecordID  \n",
              "0  0.118680  0.014038  Leptodactylidae  Adenomera  AdenomeraAndre         1  \n",
              "1  0.082263  0.029056  Leptodactylidae  Adenomera  AdenomeraAndre         1  \n",
              "2  0.099108  0.077162  Leptodactylidae  Adenomera  AdenomeraAndre         1  \n",
              "3 -0.018691  0.023954  Leptodactylidae  Adenomera  AdenomeraAndre         1  \n",
              "4  0.108610  0.079244  Leptodactylidae  Adenomera  AdenomeraAndre         1  \n",
              "\n",
              "[5 rows x 26 columns]"
            ],
            "text/html": [
              "\n",
              "  <div id=\"df-48ecbd20-569d-48cb-8088-b6d839eba20a\">\n",
              "    <div class=\"colab-df-container\">\n",
              "      <div>\n",
              "<style scoped>\n",
              "    .dataframe tbody tr th:only-of-type {\n",
              "        vertical-align: middle;\n",
              "    }\n",
              "\n",
              "    .dataframe tbody tr th {\n",
              "        vertical-align: top;\n",
              "    }\n",
              "\n",
              "    .dataframe thead th {\n",
              "        text-align: right;\n",
              "    }\n",
              "</style>\n",
              "<table border=\"1\" class=\"dataframe\">\n",
              "  <thead>\n",
              "    <tr style=\"text-align: right;\">\n",
              "      <th></th>\n",
              "      <th>MFCCs_ 1</th>\n",
              "      <th>MFCCs_ 2</th>\n",
              "      <th>MFCCs_ 3</th>\n",
              "      <th>MFCCs_ 4</th>\n",
              "      <th>MFCCs_ 5</th>\n",
              "      <th>MFCCs_ 6</th>\n",
              "      <th>MFCCs_ 7</th>\n",
              "      <th>MFCCs_ 8</th>\n",
              "      <th>MFCCs_ 9</th>\n",
              "      <th>MFCCs_10</th>\n",
              "      <th>...</th>\n",
              "      <th>MFCCs_17</th>\n",
              "      <th>MFCCs_18</th>\n",
              "      <th>MFCCs_19</th>\n",
              "      <th>MFCCs_20</th>\n",
              "      <th>MFCCs_21</th>\n",
              "      <th>MFCCs_22</th>\n",
              "      <th>Family</th>\n",
              "      <th>Genus</th>\n",
              "      <th>Species</th>\n",
              "      <th>RecordID</th>\n",
              "    </tr>\n",
              "  </thead>\n",
              "  <tbody>\n",
              "    <tr>\n",
              "      <th>0</th>\n",
              "      <td>1.0</td>\n",
              "      <td>0.152936</td>\n",
              "      <td>-0.105586</td>\n",
              "      <td>0.200722</td>\n",
              "      <td>0.317201</td>\n",
              "      <td>0.260764</td>\n",
              "      <td>0.100945</td>\n",
              "      <td>-0.150063</td>\n",
              "      <td>-0.171128</td>\n",
              "      <td>0.124676</td>\n",
              "      <td>...</td>\n",
              "      <td>-0.108351</td>\n",
              "      <td>-0.077623</td>\n",
              "      <td>-0.009568</td>\n",
              "      <td>0.057684</td>\n",
              "      <td>0.118680</td>\n",
              "      <td>0.014038</td>\n",
              "      <td>Leptodactylidae</td>\n",
              "      <td>Adenomera</td>\n",
              "      <td>AdenomeraAndre</td>\n",
              "      <td>1</td>\n",
              "    </tr>\n",
              "    <tr>\n",
              "      <th>1</th>\n",
              "      <td>1.0</td>\n",
              "      <td>0.171534</td>\n",
              "      <td>-0.098975</td>\n",
              "      <td>0.268425</td>\n",
              "      <td>0.338672</td>\n",
              "      <td>0.268353</td>\n",
              "      <td>0.060835</td>\n",
              "      <td>-0.222475</td>\n",
              "      <td>-0.207693</td>\n",
              "      <td>0.170883</td>\n",
              "      <td>...</td>\n",
              "      <td>-0.090974</td>\n",
              "      <td>-0.056510</td>\n",
              "      <td>-0.035303</td>\n",
              "      <td>0.020140</td>\n",
              "      <td>0.082263</td>\n",
              "      <td>0.029056</td>\n",
              "      <td>Leptodactylidae</td>\n",
              "      <td>Adenomera</td>\n",
              "      <td>AdenomeraAndre</td>\n",
              "      <td>1</td>\n",
              "    </tr>\n",
              "    <tr>\n",
              "      <th>2</th>\n",
              "      <td>1.0</td>\n",
              "      <td>0.152317</td>\n",
              "      <td>-0.082973</td>\n",
              "      <td>0.287128</td>\n",
              "      <td>0.276014</td>\n",
              "      <td>0.189867</td>\n",
              "      <td>0.008714</td>\n",
              "      <td>-0.242234</td>\n",
              "      <td>-0.219153</td>\n",
              "      <td>0.232538</td>\n",
              "      <td>...</td>\n",
              "      <td>-0.050691</td>\n",
              "      <td>-0.023590</td>\n",
              "      <td>-0.066722</td>\n",
              "      <td>-0.025083</td>\n",
              "      <td>0.099108</td>\n",
              "      <td>0.077162</td>\n",
              "      <td>Leptodactylidae</td>\n",
              "      <td>Adenomera</td>\n",
              "      <td>AdenomeraAndre</td>\n",
              "      <td>1</td>\n",
              "    </tr>\n",
              "    <tr>\n",
              "      <th>3</th>\n",
              "      <td>1.0</td>\n",
              "      <td>0.224392</td>\n",
              "      <td>0.118985</td>\n",
              "      <td>0.329432</td>\n",
              "      <td>0.372088</td>\n",
              "      <td>0.361005</td>\n",
              "      <td>0.015501</td>\n",
              "      <td>-0.194347</td>\n",
              "      <td>-0.098181</td>\n",
              "      <td>0.270375</td>\n",
              "      <td>...</td>\n",
              "      <td>-0.136009</td>\n",
              "      <td>-0.177037</td>\n",
              "      <td>-0.130498</td>\n",
              "      <td>-0.054766</td>\n",
              "      <td>-0.018691</td>\n",
              "      <td>0.023954</td>\n",
              "      <td>Leptodactylidae</td>\n",
              "      <td>Adenomera</td>\n",
              "      <td>AdenomeraAndre</td>\n",
              "      <td>1</td>\n",
              "    </tr>\n",
              "    <tr>\n",
              "      <th>4</th>\n",
              "      <td>1.0</td>\n",
              "      <td>0.087817</td>\n",
              "      <td>-0.068345</td>\n",
              "      <td>0.306967</td>\n",
              "      <td>0.330923</td>\n",
              "      <td>0.249144</td>\n",
              "      <td>0.006884</td>\n",
              "      <td>-0.265423</td>\n",
              "      <td>-0.172700</td>\n",
              "      <td>0.266434</td>\n",
              "      <td>...</td>\n",
              "      <td>-0.048885</td>\n",
              "      <td>-0.053074</td>\n",
              "      <td>-0.088550</td>\n",
              "      <td>-0.031346</td>\n",
              "      <td>0.108610</td>\n",
              "      <td>0.079244</td>\n",
              "      <td>Leptodactylidae</td>\n",
              "      <td>Adenomera</td>\n",
              "      <td>AdenomeraAndre</td>\n",
              "      <td>1</td>\n",
              "    </tr>\n",
              "  </tbody>\n",
              "</table>\n",
              "<p>5 rows × 26 columns</p>\n",
              "</div>\n",
              "      <button class=\"colab-df-convert\" onclick=\"convertToInteractive('df-48ecbd20-569d-48cb-8088-b6d839eba20a')\"\n",
              "              title=\"Convert this dataframe to an interactive table.\"\n",
              "              style=\"display:none;\">\n",
              "        \n",
              "  <svg xmlns=\"http://www.w3.org/2000/svg\" height=\"24px\"viewBox=\"0 0 24 24\"\n",
              "       width=\"24px\">\n",
              "    <path d=\"M0 0h24v24H0V0z\" fill=\"none\"/>\n",
              "    <path d=\"M18.56 5.44l.94 2.06.94-2.06 2.06-.94-2.06-.94-.94-2.06-.94 2.06-2.06.94zm-11 1L8.5 8.5l.94-2.06 2.06-.94-2.06-.94L8.5 2.5l-.94 2.06-2.06.94zm10 10l.94 2.06.94-2.06 2.06-.94-2.06-.94-.94-2.06-.94 2.06-2.06.94z\"/><path d=\"M17.41 7.96l-1.37-1.37c-.4-.4-.92-.59-1.43-.59-.52 0-1.04.2-1.43.59L10.3 9.45l-7.72 7.72c-.78.78-.78 2.05 0 2.83L4 21.41c.39.39.9.59 1.41.59.51 0 1.02-.2 1.41-.59l7.78-7.78 2.81-2.81c.8-.78.8-2.07 0-2.86zM5.41 20L4 18.59l7.72-7.72 1.47 1.35L5.41 20z\"/>\n",
              "  </svg>\n",
              "      </button>\n",
              "      \n",
              "  <style>\n",
              "    .colab-df-container {\n",
              "      display:flex;\n",
              "      flex-wrap:wrap;\n",
              "      gap: 12px;\n",
              "    }\n",
              "\n",
              "    .colab-df-convert {\n",
              "      background-color: #E8F0FE;\n",
              "      border: none;\n",
              "      border-radius: 50%;\n",
              "      cursor: pointer;\n",
              "      display: none;\n",
              "      fill: #1967D2;\n",
              "      height: 32px;\n",
              "      padding: 0 0 0 0;\n",
              "      width: 32px;\n",
              "    }\n",
              "\n",
              "    .colab-df-convert:hover {\n",
              "      background-color: #E2EBFA;\n",
              "      box-shadow: 0px 1px 2px rgba(60, 64, 67, 0.3), 0px 1px 3px 1px rgba(60, 64, 67, 0.15);\n",
              "      fill: #174EA6;\n",
              "    }\n",
              "\n",
              "    [theme=dark] .colab-df-convert {\n",
              "      background-color: #3B4455;\n",
              "      fill: #D2E3FC;\n",
              "    }\n",
              "\n",
              "    [theme=dark] .colab-df-convert:hover {\n",
              "      background-color: #434B5C;\n",
              "      box-shadow: 0px 1px 3px 1px rgba(0, 0, 0, 0.15);\n",
              "      filter: drop-shadow(0px 1px 2px rgba(0, 0, 0, 0.3));\n",
              "      fill: #FFFFFF;\n",
              "    }\n",
              "  </style>\n",
              "\n",
              "      <script>\n",
              "        const buttonEl =\n",
              "          document.querySelector('#df-48ecbd20-569d-48cb-8088-b6d839eba20a button.colab-df-convert');\n",
              "        buttonEl.style.display =\n",
              "          google.colab.kernel.accessAllowed ? 'block' : 'none';\n",
              "\n",
              "        async function convertToInteractive(key) {\n",
              "          const element = document.querySelector('#df-48ecbd20-569d-48cb-8088-b6d839eba20a');\n",
              "          const dataTable =\n",
              "            await google.colab.kernel.invokeFunction('convertToInteractive',\n",
              "                                                     [key], {});\n",
              "          if (!dataTable) return;\n",
              "\n",
              "          const docLinkHtml = 'Like what you see? Visit the ' +\n",
              "            '<a target=\"_blank\" href=https://colab.research.google.com/notebooks/data_table.ipynb>data table notebook</a>'\n",
              "            + ' to learn more about interactive tables.';\n",
              "          element.innerHTML = '';\n",
              "          dataTable['output_type'] = 'display_data';\n",
              "          await google.colab.output.renderOutput(dataTable, element);\n",
              "          const docLink = document.createElement('div');\n",
              "          docLink.innerHTML = docLinkHtml;\n",
              "          element.appendChild(docLink);\n",
              "        }\n",
              "      </script>\n",
              "    </div>\n",
              "  </div>\n",
              "  "
            ]
          },
          "metadata": {},
          "execution_count": 65
        }
      ],
      "source": [
        "dataset = pd.read_csv('Frogs_MFCCs.csv')\n",
        "dataset.head()"
      ]
    },
    {
      "cell_type": "code",
      "execution_count": 66,
      "metadata": {
        "id": "wJYZLIaemah6"
      },
      "outputs": [],
      "source": [
        "inputs = ['MFCCs_ 1', 'MFCCs_ 2', 'MFCCs_ 3', 'MFCCs_ 4', 'MFCCs_ 5', 'MFCCs_ 6',\n",
        "       'MFCCs_ 7', 'MFCCs_ 8', 'MFCCs_ 9', 'MFCCs_10', 'MFCCs_11', 'MFCCs_12',\n",
        "       'MFCCs_13', 'MFCCs_14', 'MFCCs_15', 'MFCCs_16', 'MFCCs_17', 'MFCCs_18',\n",
        "       'MFCCs_19', 'MFCCs_20', 'MFCCs_21', 'MFCCs_22', 'Family', 'Genus',\n",
        "       'Species']\n",
        "output = ['RecordID']\n",
        "\n",
        "X = dataset[inputs].to_numpy()\n",
        "X = OrdinalEncoder().fit_transform(X)\n",
        "X = MinMaxScaler().fit_transform(X)\n",
        "\n",
        "Y = dataset[output].to_numpy().ravel()\n",
        "\n",
        "X_train, X_test, Y_train, Y_test = train_test_split(X, Y, test_size=0.3)"
      ]
    },
    {
      "cell_type": "markdown",
      "metadata": {
        "id": "Mq4ZH1mLntuY"
      },
      "source": [
        "# Linear SVM"
      ]
    },
    {
      "cell_type": "code",
      "execution_count": 67,
      "metadata": {
        "colab": {
          "base_uri": "https://localhost:8080/"
        },
        "id": "6-BxC6_Fo7eC",
        "outputId": "5aaef607-0baa-4d80-8492-db4f37788a44"
      },
      "outputs": [
        {
          "output_type": "stream",
          "name": "stdout",
          "text": [
            "Train accuracy: 0.8733121525019857\n",
            "Test accuracy: 0.8596572487262621\n",
            "Number of support vectors per class: [ 31  34  13  50  12  26   9  53  29  41  59  16  53  92 160  57  83 110\n",
            " 172 187 137 163 175 101  22   9  31  38   6  18  18  23   4  20  27  97\n",
            "  71  40  10 220 205 221  67  10  19  17  47   3  34  38  10   6  25   2\n",
            "   1  22  13  24  15   9]\n"
          ]
        }
      ],
      "source": [
        "clf = SVC(kernel='linear')\n",
        "clf.fit(X_train, Y_train)\n",
        "\n",
        "Y_train_pred = clf.predict(X_train)\n",
        "print(f'Train accuracy: {accuracy_score(Y_train, Y_train_pred)}')\n",
        "\n",
        "Y_test_pred = clf.predict(X_test)\n",
        "print(f'Test accuracy: {accuracy_score(Y_test, Y_test_pred)}')\n",
        "\n",
        "print(f'Number of support vectors per class: {clf.n_support_}')"
      ]
    },
    {
      "cell_type": "markdown",
      "metadata": {
        "id": "jpTbOlXbrQMj"
      },
      "source": [
        "# Soft SVM"
      ]
    },
    {
      "cell_type": "code",
      "execution_count": 68,
      "metadata": {
        "colab": {
          "base_uri": "https://localhost:8080/",
          "height": 354
        },
        "id": "NoinNBCmrWbe",
        "outputId": "19fba11d-edf9-4d14-b33d-fca97d4e93c4"
      },
      "outputs": [
        {
          "output_type": "display_data",
          "data": {
            "text/plain": [
              "<Figure size 432x288 with 1 Axes>"
            ],
            "image/png": "[encoded data removed]"
          },
          "metadata": {
            "needs_background": "light"
          }
        },
        {
          "output_type": "stream",
          "name": "stdout",
          "text": [
            "Number of support vectors per class: [ 24  29  12  32   9  20   8  56  26  26  50  15  48  61 109  44  61  81\n",
            " 118 164  97 114 136  62  19   6  30  36   6  18  18  18   4  15  23  77\n",
            "  64  30  10 203 186 180  67  10  18  15  34   3  29  36  10   6  22   2\n",
            "   1  19  12  23  12   9]\n"
          ]
        }
      ],
      "source": [
        "c_range = [0.0001, 0.001, 0.01, 0.1, 1, 10, 100, 1000]\n",
        "acc = []\n",
        "\n",
        "for i in c_range:\n",
        "  clf = SVC(C=i, kernel='linear')\n",
        "  clf.fit(X_train, Y_train)\n",
        "\n",
        "  Y_test_pred = clf.predict(X_test)\n",
        "  acc.append(accuracy_score(Y_test, Y_test_pred))\n",
        "\n",
        "plt.figure()\n",
        "plt.bar([str(i) for i in c_range], acc)\n",
        "plt.xlabel('C')\n",
        "plt.ylabel('Validation accuracy')\n",
        "plt.yscale('log')\n",
        "plt.show()\n",
        "\n",
        "clf = SVC(C=10, kernel='linear')\n",
        "clf.fit(X_train, Y_train)\n",
        "\n",
        "print(f'Number of support vectors per class: {clf.n_support_}')"
      ]
    },
    {
      "cell_type": "markdown",
      "metadata": {
        "id": "zd0uFItKtHll"
      },
      "source": [
        "# Non Linear SVM"
      ]
    },
    {
      "cell_type": "markdown",
      "metadata": {
        "id": "MRxlWTCMtcc0"
      },
      "source": [
        "RBF kernel"
      ]
    },
    {
      "cell_type": "code",
      "execution_count": null,
      "metadata": {
        "colab": {
          "base_uri": "https://localhost:8080/"
        },
        "id": "vslMCq9ttNVg",
        "outputId": "3bab7f39-0e45-4bb9-84d2-53aba52f4ce0"
      },
      "outputs": [
        {
          "name": "stdout",
          "output_type": "stream",
          "text": [
            "Train accuracy: 0.8880063542494043\n",
            "Test accuracy: 0.8707735062528948\n",
            "Number of support vectors per class: [ 31  37  17  50  17  33  11  43  26  45  63  17  47 100 130  50  83 129\n",
            " 185 200 137 169 175 101  22   9  26  40   4  18  17  18   4  19  23  89\n",
            "  72  35   8 224 211 199  75  11  20  16  47   3  40  36   8   7  21   1\n",
            "   1  22  15  24  14   9]\n"
          ]
        }
      ],
      "source": [
        "clf = SVC(kernel='rbf')\n",
        "clf.fit(X_train, Y_train)\n",
        "\n",
        "Y_train_pred = clf.predict(X_train)\n",
        "print(f'Train accuracy: {accuracy_score(Y_train, Y_train_pred)}')\n",
        "\n",
        "Y_test_pred = clf.predict(X_test)\n",
        "print(f'Test accuracy: {accuracy_score(Y_test, Y_test_pred)}')\n",
        "\n",
        "print(f'Number of support vectors per class: {clf.n_support_}')"
      ]
    },
    {
      "cell_type": "markdown",
      "metadata": {
        "id": "prCXfafkte0n"
      },
      "source": [
        "Polynomial kernel"
      ]
    },
    {
      "cell_type": "code",
      "execution_count": null,
      "metadata": {
        "colab": {
          "base_uri": "https://localhost:8080/"
        },
        "id": "HXTdAKKstUbJ",
        "outputId": "50aaa001-9eb7-4320-9ff3-026098a0523f"
      },
      "outputs": [
        {
          "name": "stdout",
          "output_type": "stream",
          "text": [
            "Train accuracy: 0.9473788721207307\n",
            "Test accuracy: 0.8911533117183882\n",
            "Number of support vectors per class: [ 20  25  14  35   9  24  10  35  25  31  54   8  50  55  88  39  55  93\n",
            " 108 161  85 103 137  56  18   6  24  34   4  18  16  15   4  14  18  75\n",
            "  48  24   8 192 171 138  73   9  17  14  36   3  30  33   8   7  14   1\n",
            "   1  16  12  23  12   6]\n"
          ]
        }
      ],
      "source": [
        "clf = SVC(kernel='poly')\n",
        "clf.fit(X_train, Y_train)\n",
        "\n",
        "Y_train_pred = clf.predict(X_train)\n",
        "print(f'Train accuracy: {accuracy_score(Y_train, Y_train_pred)}')\n",
        "\n",
        "Y_test_pred = clf.predict(X_test)\n",
        "print(f'Test accuracy: {accuracy_score(Y_test, Y_test_pred)}')\n",
        "\n",
        "print(f'Number of support vectors per class: {clf.n_support_}')"
      ]
    },
    {
      "cell_type": "markdown",
      "metadata": {
        "id": "dhihmrOotzvA"
      },
      "source": [
        "# Soft SVM & Non Linear SVM"
      ]
    },
    {
      "cell_type": "code",
      "execution_count": null,
      "metadata": {
        "colab": {
          "base_uri": "https://localhost:8080/"
        },
        "id": "qeVuFhuVt9Kr",
        "outputId": "196d81bd-98b7-44cd-a5b0-5bdbdc63b70d"
      },
      "outputs": [
        {
          "name": "stdout",
          "output_type": "stream",
          "text": [
            "Train accuracy: 0.9795472597299444\n",
            "Test accuracy: 0.8994905048633627\n",
            "Number of support vectors per class: [ 20  23  11  36   9  24  10  35  25  28  53   8  50  50  89  38  48  92\n",
            " 102 150  81  97 121  50  18   6  25  37   4  18  15  15   4  14  17  70\n",
            "  48  26   8 168 164 112  74   9  17  14  35   3  29  33   8   7  15   1\n",
            "   1  16  12  22  12   6]\n"
          ]
        }
      ],
      "source": [
        "clf = SVC(C=10, kernel='poly')\n",
        "clf.fit(X_train, Y_train)\n",
        "\n",
        "Y_train_pred = clf.predict(X_train)\n",
        "print(f'Train accuracy: {accuracy_score(Y_train, Y_train_pred)}')\n",
        "\n",
        "Y_test_pred = clf.predict(X_test)\n",
        "print(f'Test accuracy: {accuracy_score(Y_test, Y_test_pred)}')\n",
        "\n",
        "print(f'Number of support vectors per class: {clf.n_support_}')"
      ]
    },
    {
      "cell_type": "markdown",
      "metadata": {
        "id": "IpA4tJaAvJxT"
      },
      "source": [
        "# Soft margins, Poly kernel, 4 Fold"
      ]
    },
    {
      "cell_type": "code",
      "execution_count": null,
      "metadata": {
        "id": "8i-V6XRuvZSq"
      },
      "outputs": [],
      "source": [
        "folds = KFold(4, shuffle=True)"
      ]
    },
    {
      "cell_type": "code",
      "execution_count": null,
      "metadata": {
        "colab": {
          "base_uri": "https://localhost:8080/"
        },
        "id": "Ad5Wms2JvVB2",
        "outputId": "8bc3c124-719b-4555-a11b-fb510db7705d"
      },
      "outputs": [
        {
          "name": "stdout",
          "output_type": "stream",
          "text": [
            "Fold: 0\n",
            "  Train accuracy: 0.9799851742031134\n",
            "  Test accuracy: 0.8882712618121178\n",
            "Fold: 1\n",
            "  Train accuracy: 0.9797998517420311\n",
            "  Test accuracy: 0.8943857698721512\n",
            "Fold: 2\n",
            "  Train accuracy: 0.9812824314306894\n",
            "  Test accuracy: 0.8854919399666481\n",
            "Fold: 3\n",
            "  Train accuracy: 0.9798035945895868\n",
            "  Test accuracy: 0.8898776418242491\n",
            "Mean train: 0.9802177629913551\n",
            "Mean train: 0.8895066533687915\n",
            "[ 25  25  11  27   8  21  10  48  28  30  50  11  50  54  80  41  61  94\n",
            " 118 137  79 104 128  49  20   8  27  37   4  18  15  12   6  13  24  54\n",
            "  55  28   6 179 174 119  73   7  15  18  34   3  30  32   8   6  17   2\n",
            "   1  18  13  20  13   8]\n"
          ]
        }
      ],
      "source": [
        "valids = []\n",
        "trains = []\n",
        "\n",
        "for i, (train, test) in enumerate(folds.split(X, Y)):\n",
        "  print(f'Fold: {i}')\n",
        "\n",
        "  clf = SVC(C=10, kernel='poly')\n",
        "  clf.fit(X[train], Y[train])\n",
        "\n",
        "  Y_train_pred = clf.predict(X[train])\n",
        "  acc = accuracy_score(Y[train], Y_train_pred)\n",
        "  trains.append(acc)\n",
        "  print(f'  Train accuracy: {acc}')\n",
        "\n",
        "\n",
        "  Y_test_pred = clf.predict(X[test])\n",
        "  acc = accuracy_score(Y[test], Y_test_pred)\n",
        "  valids.append(acc)\n",
        "  print(f'  Test accuracy: {acc}')\n",
        "\n",
        "print(f'Mean train: {sum(trains) / len(trains)}')\n",
        "print(f'Mean train: {sum(valids) / len(valids)}')"
      ]
    }
  ],
  "metadata": {
    "colab": {
      "provenance": []
    },
    "kernelspec": {
      "display_name": "Python 3",
      "name": "python3"
    },
    "language_info": {
      "name": "python"
    }
  },
  "nbformat": 4,
  "nbformat_minor": 0
}